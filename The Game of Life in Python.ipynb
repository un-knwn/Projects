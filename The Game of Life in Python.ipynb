{
 "cells": [
  {
   "cell_type": "raw",
   "id": "5e5d7f04-958b-4fb0-9f28-63f38c7bbe31",
   "metadata": {},
   "source": [
    "Conway’s Game of Life is a zero-player game requiring only an initial state and no further input. It occurs on a grid of square cells, each in one of two possible states: live or dead. Every cell interacts with its eight neighbors (horizontally, vertically, or diagonally adjacent cells).\n",
    "\n",
    "Starting at the initial state, the neighbors interact according to the following rules:\n",
    "\n",
    "Any live cell with two or three live neighbors survives. Otherwise, a cell dies due to loneliness (with no or only one neighbor) or overpopulation (with four or more neighbors).\n",
    "Any dead cell with (exactly) three live neighbors becomes a live cell. A dead cell with any other number of neighbors remains dead.\n",
    "\n",
    "In this project, we will implement Conway’s Game of Life in Python."
   ]
  },
  {
   "cell_type": "code",
   "execution_count": 1,
   "id": "7f236fca-ceeb-4a97-8657-db73c6f985aa",
   "metadata": {},
   "outputs": [],
   "source": [
    "import matplotlib.pyplot as plt\n",
    "# importing matplot librariry for plotting the data"
   ]
  },
  {
   "cell_type": "code",
   "execution_count": 2,
   "id": "a2fba491-ee0c-474f-84a1-581a55b7f5df",
   "metadata": {},
   "outputs": [],
   "source": [
    "class GameOfLife:\n",
    "#    A simplified implementation of Conway's Game of Life.\n",
    "    \n",
    "    def __init__(self, x_dim, y_dim):\n",
    "        self.grid = [[0]*y_dim for _ in range(x_dim)]\n",
    "#   Initializes a 2D grid of given dimensions filled with dead cells (0s).\n",
    "#   Args: x_dim (int): Number of rows in the grid,   y_dim (int): Number of columns in the grid.\n",
    "\n",
    "    def get_grid(self):\n",
    "        return self.grid\n",
    "#   Returns: list: 2D list representing the grid.\n",
    "    \n",
    "    def print_grid(self):\n",
    "        for row in self.grid:\n",
    "            print(' | '.join(map(str, row)))\n",
    "            print('-' * (len(row) * 4))\n",
    "#   Prints the grid in a human-readable format with cell separators.\n",
    "    \n",
    "    def populate_grid(self, coord):\n",
    "        for i, j in coord:\n",
    "            self.grid[i][j] = 1\n",
    "        return self.grid\n",
    "#   Sets specified coordinates in the grid to 1 (alive).\n",
    "#   Args: coord (list of tuples): List of (row, col) positions.\n",
    "        \n",
    "    def make_step(self):\n",
    "        r, c = len(self.grid), len(self.grid[0])\n",
    "        new_grid = [[0]*c for _ in range(r)]\n",
    "        for i in range(r):\n",
    "            for j in range(c):\n",
    "                s = sum(self.grid[x][y] for x in range(i-1, i+2)\n",
    "                        for y in range(j-1, j+2)\n",
    "                        if 0 <= x < r and 0 <= y < c and (x, y) != (i, j))\n",
    "                new_grid[i][j] = int(s == 3 or (self.grid[i][j] and s == 2))\n",
    "        self.grid = new_grid\n",
    "        return self.grid\n",
    "#   Updates the grid to the next state based on the Game of Life rules.\n",
    "#   Rules: A live cell with 2 or 3 live neighbors stays alive. A dead cell with exactly 3 live neighbors becomes alive. All other cells die/remain dead.\n",
    "\n",
    "    def make_n_steps(self, n):\n",
    "        for _ in range(n):\n",
    "            self.make_step()\n",
    "        return self.grid\n",
    "#   Applies the game logic for `n` steps.\n",
    "#   Args: n (int): Number of steps to simulate.\n",
    "            \n",
    "    def draw_grid(self):\n",
    "        r, c = len(self.grid), len(self.grid[0])\n",
    "        x, y = [], []\n",
    "        for i in range(c):\n",
    "            for j in range(r):\n",
    "                x.append(j)\n",
    "                y.append(i)\n",
    "                    \n",
    "        fig, ax = plt.subplots(figsize=(9, 9))\n",
    "        ax.scatter(x, y, s=150, c=self.grid, edgecolors='k', marker='o')\n",
    "        ax.set_xlim(-1, r)\n",
    "        ax.set_ylim(-1, c)\n",
    "        ax.invert_yaxis()\n",
    "        plt.show()\n",
    "#   Visually displays the current grid using matplotlib, Live cells are shown as filled squares on a scatter plot."
   ]
  },
  {
   "cell_type": "code",
   "execution_count": 3,
   "id": "84322295-cb15-4bf4-9e5f-8c931faa8850",
   "metadata": {},
   "outputs": [
    {
     "data": {
      "text/plain": [
       "[[0, 0, 0], [0, 0, 0], [0, 0, 0]]"
      ]
     },
     "execution_count": 3,
     "metadata": {},
     "output_type": "execute_result"
    }
   ],
   "source": [
    "game=GameOfLife(3,3)\n",
    "game.get_grid()"
   ]
  },
  {
   "cell_type": "code",
   "execution_count": 4,
   "id": "40951968-8707-48ab-9ddb-530155b5e339",
   "metadata": {},
   "outputs": [
    {
     "name": "stdout",
     "output_type": "stream",
     "text": [
      "0 | 0 | 0\n",
      "------------\n",
      "0 | 0 | 0\n",
      "------------\n",
      "0 | 0 | 0\n",
      "------------\n"
     ]
    }
   ],
   "source": [
    "game.print_grid()"
   ]
  },
  {
   "cell_type": "code",
   "execution_count": 5,
   "id": "17e3f9f8-b1e6-4aa0-b540-1d21fec371f3",
   "metadata": {},
   "outputs": [
    {
     "name": "stdout",
     "output_type": "stream",
     "text": [
      "0 | 0 | 0 | 0 | 0\n",
      "--------------------\n",
      "0 | 0 | 0 | 0 | 0\n",
      "--------------------\n",
      "0 | 0 | 1 | 1 | 1\n",
      "--------------------\n",
      "0 | 0 | 0 | 0 | 0\n",
      "--------------------\n",
      "0 | 0 | 0 | 0 | 0\n",
      "--------------------\n"
     ]
    }
   ],
   "source": [
    "# Initialize a 3x3 game\n",
    "game = GameOfLife(5, 5)\n",
    "\n",
    "# Populate the grid\n",
    "game.populate_grid([(2, 2), (2, 3), (2, 4)])\n",
    "\n",
    "# Test the populate_grid method by printing the grid\n",
    "game.print_grid()  "
   ]
  },
  {
   "cell_type": "code",
   "execution_count": 6,
   "id": "090b597d-630f-43e2-9ca6-5ebe6d3b0ecc",
   "metadata": {},
   "outputs": [
    {
     "name": "stdout",
     "output_type": "stream",
     "text": [
      "0 | 0 | 0 | 0 | 0\n",
      "--------------------\n",
      "0 | 0 | 0 | 1 | 0\n",
      "--------------------\n",
      "0 | 0 | 0 | 1 | 0\n",
      "--------------------\n",
      "0 | 0 | 0 | 1 | 0\n",
      "--------------------\n",
      "0 | 0 | 0 | 0 | 0\n",
      "--------------------\n"
     ]
    },
    {
     "data": {
      "image/png": "[encoded data removed]",
      "text/plain": [
       "<Figure size 900x900 with 1 Axes>"
      ]
     },
     "metadata": {},
     "output_type": "display_data"
    }
   ],
   "source": [
    "game.make_n_steps(5)\n",
    "game.print_grid()\n",
    "game.draw_grid()"
   ]
  }
 ],
 "metadata": {
  "kernelspec": {
   "display_name": "Python 3 (ipykernel)",
   "language": "python",
   "name": "python3"
  },
  "language_info": {
   "codemirror_mode": {
    "name": "ipython",
    "version": 3
   },
   "file_extension": ".py",
   "mimetype": "text/x-python",
   "name": "python",
   "nbconvert_exporter": "python",
   "pygments_lexer": "ipython3",
   "version": "3.12.4"
  }
 },
 "nbformat": 4,
 "nbformat_minor": 5
}
