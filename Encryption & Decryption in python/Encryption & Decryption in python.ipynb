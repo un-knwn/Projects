{
 "cells": [
  {
   "cell_type": "markdown",
   "id": "fc1b63ae",
   "metadata": {},
   "source": [
    "# Create the TranspositionCipher class"
   ]
  },
  {
   "cell_type": "raw",
   "id": "950a4479-edbb-4555-becd-145ae84bd716",
   "metadata": {},
   "source": [
    "Task 1: Implementing the constructor for the TranspositionCipher class in Python. The constructor will be responsible for initializing new class       instances and should take a single argument: the cipher key.\n",
    "\n",
    "Task 2: Encrypt the message \"Learning python is fun\" using key 6\n",
    "\n",
    "Task 3: Decrypt the encrypted message"
   ]
  },
  {
   "cell_type": "code",
   "execution_count": 2,
   "id": "fda4f19c-9678-4a9f-88d1-44336dbfe98a",
   "metadata": {},
   "outputs": [],
   "source": [
    "from math import ceil\n",
    "class TranspositionCipher(object): \n",
    "        \n",
    "    def __init__(self, key):\n",
    "        self.key=key\n",
    "            # Encryption    \n",
    "    def encrypt_message(self, message):\n",
    "        self.message=message\n",
    "        # The message split it into a list of characters\n",
    "        message_split = list(message)\n",
    "        # The length of the message\n",
    "        message_len = len(message_split)\n",
    "        # No.of rows in the encryption grid which is taken from key\n",
    "        message_ceil = ceil(message_len / self.key)\n",
    "        # An empty string to store encrpted message\n",
    "        message_encrypt=''\n",
    "        # Iterate over each cell and calculate the corresponding index in the message_split variable (i+j*self.key = index)\n",
    "        for i in range(self.key):\n",
    "            for j in range(message_ceil):\n",
    "                if i+j*self.key<message_len:\n",
    "                    message_encrypt += message_split[i+j*self.key]\n",
    "                    \n",
    "        return message_encrypt\n",
    "        \n",
    "     # Decryption\n",
    "    def decrypt_message(self, message):\n",
    "        self.message = message\n",
    "         # Determines no.of columns needed\n",
    "        cols = ceil(len(message) / self.key)\n",
    "         # Determines no.of empty cells\n",
    "        empty_cells = self.key * cols - len(message)\n",
    "         # An empty string to store Decrpted message\n",
    "        message_decrypt=''\n",
    "         # An empty list to store 2D list where each row contains characters from the encrypted message.\n",
    "        grid = []\n",
    "         #Fills decrption grid row by row\n",
    "        it = iter(message)\n",
    "        for row in range(self.key):\n",
    "           num_cols = cols - 1 if row >= self.key - empty_cells else cols\n",
    "           grid.append([next(it, '') for _ in range(num_cols)])\n",
    "        # Reconstruct Message from Grid\n",
    "        for col in range(cols):\n",
    "            for row in range(self.key):\n",
    "                if col<len(grid[row]):\n",
    "                    message_decrypt += grid[row][col]\n",
    "        return message_decrypt\n",
    "        #return ''.join(grid[row][col] for col in range(cols) for row in range(self.key) if col < len(grid[row]))"
   ]
  },
  {
   "cell_type": "markdown",
   "id": "addc9042",
   "metadata": {},
   "source": [
    "# Test the code by encrypting and decrypting a message"
   ]
  },
  {
   "cell_type": "code",
   "execution_count": 4,
   "id": "8c8f8aa3",
   "metadata": {},
   "outputs": [
    {
     "data": {
      "text/plain": [
       "'Lnh egoFa nurP nnyiits'"
      ]
     },
     "execution_count": 4,
     "metadata": {},
     "output_type": "execute_result"
    }
   ],
   "source": [
    "TranspositionCipher(6).encrypt_message(\"Learning Python is Fun\")"
   ]
  },
  {
   "cell_type": "code",
   "execution_count": 5,
   "id": "91f72995-64dd-4c45-8118-821fca38e53d",
   "metadata": {},
   "outputs": [
    {
     "data": {
      "text/plain": [
       "'Learning Python is Fun'"
      ]
     },
     "execution_count": 5,
     "metadata": {},
     "output_type": "execute_result"
    }
   ],
   "source": [
    "TranspositionCipher(6).decrypt_message(\"Lnh egoFa nurP nnyiits\")"
   ]
  },
  {
   "cell_type": "code",
   "execution_count": null,
   "id": "0ff0e93f-bd0b-4fce-9339-77d64b84d4e4",
   "metadata": {},
   "outputs": [],
   "source": []
  }
 ],
 "metadata": {
  "kernelspec": {
   "display_name": "Python 3 (ipykernel)",
   "language": "python",
   "name": "python3"
  },
  "language_info": {
   "codemirror_mode": {
    "name": "ipython",
    "version": 3
   },
   "file_extension": ".py",
   "mimetype": "text/x-python",
   "name": "python",
   "nbconvert_exporter": "python",
   "pygments_lexer": "ipython3",
   "version": "3.12.4"
  }
 },
 "nbformat": 4,
 "nbformat_minor": 5
}
